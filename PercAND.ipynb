{
  "nbformat": 4,
  "nbformat_minor": 0,
  "metadata": {
    "colab": {
      "provenance": []
    },
    "kernelspec": {
      "name": "python3",
      "display_name": "Python 3"
    },
    "language_info": {
      "name": "python"
    }
  },
  "cells": [
    {
      "cell_type": "markdown",
      "source": [
        "# **Program to implement the precptron For Logical AND**\n"
      ],
      "metadata": {
        "id": "mAnHubVYKJZn"
      }
    },
    {
      "cell_type": "code",
      "execution_count": 2,
      "metadata": {
        "id": "BXHpjSVdHFMn"
      },
      "outputs": [],
      "source": [
        "# Import Libraries\n",
        "import numpy as np"
      ]
    },
    {
      "cell_type": "code",
      "source": [
        "# Taking inputs\n",
        "\n",
        "x = np.array([0,0])"
      ],
      "metadata": {
        "id": "nV-HpE1xKVLa"
      },
      "execution_count": 3,
      "outputs": []
    },
    {
      "cell_type": "code",
      "source": [
        "# Weights\n",
        "w = np.array([1,1])"
      ],
      "metadata": {
        "id": "jzWZgH3WKn08"
      },
      "execution_count": 4,
      "outputs": []
    },
    {
      "cell_type": "code",
      "source": [
        "# Bias\n",
        "b = -1.5"
      ],
      "metadata": {
        "id": "oWNweo2gKydR"
      },
      "execution_count": 5,
      "outputs": []
    },
    {
      "cell_type": "code",
      "source": [
        "# Net Input\n",
        "Yin = np.dot(w,x)+b\n",
        "print(Yin)"
      ],
      "metadata": {
        "colab": {
          "base_uri": "https://localhost:8080/"
        },
        "id": "eoU-zuaiMDhi",
        "outputId": "c2ead255-ebe7-4ba9-e962-eef88dc21ec4"
      },
      "execution_count": 7,
      "outputs": [
        {
          "output_type": "stream",
          "name": "stdout",
          "text": [
            "-1.5\n"
          ]
        }
      ]
    },
    {
      "cell_type": "code",
      "source": [
        "# Activation Unit Step\n",
        "if(Yin >= 0):\n",
        "  print('1')\n",
        "else:\n",
        "  print(0)"
      ],
      "metadata": {
        "colab": {
          "base_uri": "https://localhost:8080/"
        },
        "id": "5ffmX3VQNT27",
        "outputId": "a41954c8-9622-498c-fefb-8dc53d5d07f5"
      },
      "execution_count": 8,
      "outputs": [
        {
          "output_type": "stream",
          "name": "stdout",
          "text": [
            "0\n"
          ]
        }
      ]
    },
    {
      "cell_type": "markdown",
      "source": [
        "User Defined Function with binary step as activation"
      ],
      "metadata": {
        "id": "8JAZDXIKN1UL"
      }
    },
    {
      "cell_type": "code",
      "source": [
        "def PercAND(x1,x2,w1,w2,b):\n",
        "  x = np.array([x1,x2])\n",
        "  y = np.array([w1,w2])\n",
        "  yin = np.dot(w,x)+b\n",
        "  if(yin>=0):\n",
        "    print('1')\n",
        "  else:\n",
        "    print('0')\n",
        "\n"
      ],
      "metadata": {
        "id": "_1b8V_f7Nrqp"
      },
      "execution_count": 9,
      "outputs": []
    },
    {
      "cell_type": "code",
      "source": [
        "# Function calls\n",
        "PercAND(0,0,1,1,-1.5)"
      ],
      "metadata": {
        "colab": {
          "base_uri": "https://localhost:8080/"
        },
        "id": "25GrD3LPPNEt",
        "outputId": "74dc926d-13fc-4896-863a-2f0bb611d299"
      },
      "execution_count": 12,
      "outputs": [
        {
          "output_type": "stream",
          "name": "stdout",
          "text": [
            "0\n"
          ]
        }
      ]
    },
    {
      "cell_type": "code",
      "source": [
        "PercAND(0,1,1,1,-1.5)\n"
      ],
      "metadata": {
        "colab": {
          "base_uri": "https://localhost:8080/"
        },
        "id": "-DuK-E07RJc1",
        "outputId": "b57f960d-f1bb-4aaf-90fc-29693473d4f3"
      },
      "execution_count": 13,
      "outputs": [
        {
          "output_type": "stream",
          "name": "stdout",
          "text": [
            "0\n"
          ]
        }
      ]
    },
    {
      "cell_type": "code",
      "source": [
        "PercAND(1,0,1,1,-1.5)"
      ],
      "metadata": {
        "colab": {
          "base_uri": "https://localhost:8080/"
        },
        "id": "BkoEX8iJRNkI",
        "outputId": "cb0060a2-2baa-4634-e3e5-2754f8ca9a13"
      },
      "execution_count": 15,
      "outputs": [
        {
          "output_type": "stream",
          "name": "stdout",
          "text": [
            "0\n"
          ]
        }
      ]
    },
    {
      "cell_type": "code",
      "source": [
        "PercAND(1,1,1,1,-1.5)"
      ],
      "metadata": {
        "colab": {
          "base_uri": "https://localhost:8080/"
        },
        "id": "M9iAkxlTRSOh",
        "outputId": "28ab1434-a0b9-4ea0-da33-3c9737160345"
      },
      "execution_count": 16,
      "outputs": [
        {
          "output_type": "stream",
          "name": "stdout",
          "text": [
            "1\n"
          ]
        }
      ]
    }
  ]
}