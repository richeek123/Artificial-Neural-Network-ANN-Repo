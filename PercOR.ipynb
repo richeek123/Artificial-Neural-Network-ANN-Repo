{
  "nbformat": 4,
  "nbformat_minor": 0,
  "metadata": {
    "colab": {
      "provenance": []
    },
    "kernelspec": {
      "name": "python3",
      "display_name": "Python 3"
    },
    "language_info": {
      "name": "python"
    }
  },
  "cells": [
    {
      "cell_type": "markdown",
      "source": [
        "# **Program to implement the precptron For Logical OR**"
      ],
      "metadata": {
        "id": "Oj-32QtrRvWc"
      }
    },
    {
      "cell_type": "code",
      "execution_count": 1,
      "metadata": {
        "id": "eK2huTfDRucP"
      },
      "outputs": [],
      "source": [
        "# import Libraries\n",
        "import numpy as np"
      ]
    },
    {
      "cell_type": "code",
      "source": [
        "# Inputs\n",
        "\n",
        "x = np.array([0,0])"
      ],
      "metadata": {
        "id": "8SToZm76S4S3"
      },
      "execution_count": 2,
      "outputs": []
    },
    {
      "cell_type": "code",
      "source": [
        "# Weights\n",
        "w = np.array([3,3])\n"
      ],
      "metadata": {
        "id": "sQzKbE60S_U8"
      },
      "execution_count": 3,
      "outputs": []
    },
    {
      "cell_type": "code",
      "source": [
        "# Bias\n",
        "b = -1.5"
      ],
      "metadata": {
        "id": "NCuU3LeYTFej"
      },
      "execution_count": 4,
      "outputs": []
    },
    {
      "cell_type": "code",
      "source": [
        "# Net Input\n",
        "Yin = np.dot(w,x)+b\n",
        "print(Yin)"
      ],
      "metadata": {
        "colab": {
          "base_uri": "https://localhost:8080/"
        },
        "id": "y45P-yK-TLYb",
        "outputId": "24c522b4-0084-44d5-b345-67f2be64809b"
      },
      "execution_count": 6,
      "outputs": [
        {
          "output_type": "stream",
          "name": "stdout",
          "text": [
            "1\n"
          ]
        }
      ]
    },
    {
      "cell_type": "code",
      "source": [
        "# Activation Unit Step\n",
        "if(Yin>=1):\n",
        "  print(\"1\")\n",
        "else:\n",
        "  print('0')"
      ],
      "metadata": {
        "colab": {
          "base_uri": "https://localhost:8080/"
        },
        "id": "KvvT0_E-TZAk",
        "outputId": "4d8d3ee7-51e8-4895-d9f7-5becaa512967"
      },
      "execution_count": 7,
      "outputs": [
        {
          "output_type": "stream",
          "name": "stdout",
          "text": [
            "1\n"
          ]
        }
      ]
    },
    {
      "cell_type": "markdown",
      "source": [
        "# **User defined function with binary step as activation**"
      ],
      "metadata": {
        "id": "x9-kx-0rVTFE"
      }
    },
    {
      "cell_type": "code",
      "source": [
        "def PercOR(x1,x2,w1,w2,b):\n",
        "  x=np.array([x1,x2])\n",
        "  w=np.array([w1,w2])\n",
        "  yin=np.dot(w,x)+b\n",
        "  if(yin>=0):\n",
        "    return 1\n",
        "  else:\n",
        "    return 0"
      ],
      "metadata": {
        "id": "yhlDbjI1TkqV"
      },
      "execution_count": 24,
      "outputs": []
    },
    {
      "cell_type": "code",
      "source": [
        "PercOR(0,0,3,3,-1.5)"
      ],
      "metadata": {
        "colab": {
          "base_uri": "https://localhost:8080/"
        },
        "id": "W4qe4kL_Tw8J",
        "outputId": "f84402a1-b490-4f40-b7d9-b2bbbf6f372b"
      },
      "execution_count": 25,
      "outputs": [
        {
          "output_type": "execute_result",
          "data": {
            "text/plain": [
              "0"
            ]
          },
          "metadata": {},
          "execution_count": 25
        }
      ]
    },
    {
      "cell_type": "code",
      "source": [
        "PercOR(0,1,3,3,-1.5)"
      ],
      "metadata": {
        "colab": {
          "base_uri": "https://localhost:8080/"
        },
        "id": "JRKeN1hwT6E6",
        "outputId": "d78ec523-cbdf-40a8-cd4e-a6c218925a68"
      },
      "execution_count": 26,
      "outputs": [
        {
          "output_type": "execute_result",
          "data": {
            "text/plain": [
              "1"
            ]
          },
          "metadata": {},
          "execution_count": 26
        }
      ]
    },
    {
      "cell_type": "code",
      "source": [
        "PercOR(1,0,3,3,-1.5)"
      ],
      "metadata": {
        "colab": {
          "base_uri": "https://localhost:8080/"
        },
        "id": "rR6o4VvmT9oK",
        "outputId": "e1bfc8bb-f5a7-42c6-9967-ef770e4986a9"
      },
      "execution_count": 27,
      "outputs": [
        {
          "output_type": "execute_result",
          "data": {
            "text/plain": [
              "1"
            ]
          },
          "metadata": {},
          "execution_count": 27
        }
      ]
    },
    {
      "cell_type": "code",
      "source": [
        "PercOR(1,1,3,3,-1.5)"
      ],
      "metadata": {
        "colab": {
          "base_uri": "https://localhost:8080/"
        },
        "id": "JXtMdT8FUDqQ",
        "outputId": "93da1638-464f-49ae-f66b-8836ee194e2e"
      },
      "execution_count": 28,
      "outputs": [
        {
          "output_type": "execute_result",
          "data": {
            "text/plain": [
              "1"
            ]
          },
          "metadata": {},
          "execution_count": 28
        }
      ]
    }
  ]
}