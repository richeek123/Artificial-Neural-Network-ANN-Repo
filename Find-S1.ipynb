{
  "nbformat": 4,
  "nbformat_minor": 0,
  "metadata": {
    "colab": {
      "provenance": []
    },
    "kernelspec": {
      "name": "python3",
      "display_name": "Python 3"
    },
    "language_info": {
      "name": "python"
    }
  },
  "cells": [
    {
      "cell_type": "code",
      "execution_count": 1,
      "metadata": {
        "colab": {
          "base_uri": "https://localhost:8080/"
        },
        "id": "yFfJnE4CTyF_",
        "outputId": "f1a1968c-9d1b-48cb-ced3-534dcbae9e67"
      },
      "outputs": [
        {
          "output_type": "stream",
          "name": "stdout",
          "text": [
            "  weather humidity   air play\n",
            "0   sunny     high  warm  yes\n",
            "1   sunny      low  warm  yes\n",
            "2   rainy      low  warm   no\n",
            "3   sunny      low  cool  yes\n"
          ]
        }
      ],
      "source": [
        "import pandas as pd\n",
        "\n",
        "# Feeding the Given  Data\n",
        "\n",
        "Data={\n",
        "    \"weather\":[\"sunny\",\"sunny\",\"rainy\",\"sunny\",],\n",
        "    \"humidity\":[\"high\",\"low\",\"low\",\"low\",],\n",
        "    \"air\":[\"warm\",\"warm\",\"warm\",\"cool\",],\n",
        "    \"play\":[\"yes\",\"yes\",\"no\",\"yes\",],\n",
        "}\n",
        "\n",
        "df = pd.DataFrame(Data)\n",
        "\n",
        "print(df)"
      ]
    },
    {
      "cell_type": "code",
      "source": [
        "def FindS(df, ho=[\"ϕ\",\"ϕ\",\"ϕ\",\"ϕ\",]):\n",
        "\n",
        "  # Check the example is positive or not\n",
        "    df = df[df['play'] != 'no']\n",
        "\n",
        "  # Copy the positive example from DF into the ho\n",
        "    ho = df.iloc[0].copy()\n",
        "\n",
        "  # Iterating the DataFrame to compair values with ho\n",
        "\n",
        "    for i in range(1, len(df)):\n",
        "        if all(df.iloc[i] == ho):\n",
        "            pass\n",
        "\n",
        "        else:\n",
        "  # If change in example value replace it with the Most specific \"?\"\n",
        "            for j in range(len(ho)):\n",
        "                if ho[j] != df.iloc[i][j]:\n",
        "                    ho[j] = \"?\"\n",
        "\n",
        "    return ho\n",
        "\n",
        "\n",
        "result = FindS(df)\n",
        "\n",
        "# Check if ho having a Most Specific hypothesis or not\n",
        "if result is not None:\n",
        "    print(\"Most specific hypothesis is:\")\n",
        "    print(result)\n",
        "else:\n",
        "    print(\"No positive examples found.\")\n"
      ],
      "metadata": {
        "colab": {
          "base_uri": "https://localhost:8080/"
        },
        "id": "2UcI4Xwqdd06",
        "outputId": "bf64d292-d6de-45f5-b1e2-9a0f533244e4"
      },
      "execution_count": 7,
      "outputs": [
        {
          "output_type": "stream",
          "name": "stdout",
          "text": [
            "Most specific hypothesis is:\n",
            "weather     sunny\n",
            "humidity        ?\n",
            "air             ?\n",
            "play          yes\n",
            "Name: 0, dtype: object\n"
          ]
        }
      ]
    }
  ]
}